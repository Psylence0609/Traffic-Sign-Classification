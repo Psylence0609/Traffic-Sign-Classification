{
 "cells": [
  {
   "cell_type": "code",
   "execution_count": 3,
   "metadata": {},
   "outputs": [],
   "source": [
    "import numpy as np\n",
    "import pandas as pd\n",
    "import matplotlib.pyplot as plt\n",
    "from PIL import Image\n",
    "import os\n",
    "import tensorflow as tf\n",
    "from sklearn.model_selection import train_test_split\n",
    "from tensorflow.keras.utils import to_categorical\n",
    "from keras.models import Sequential\n",
    "from keras.layers import Dense, Dropout, Flatten, Conv2D, MaxPool2D"
   ]
  },
  {
   "cell_type": "code",
   "execution_count": 4,
   "metadata": {},
   "outputs": [],
   "source": [
    "df=[]\n",
    "labels=[]\n",
    "columns=43\n",
    "path=os.getcwd()\n",
    "\n",
    "for i in range(columns):\n",
    "    req_path=os.path.join(path,'train',str(i))\n",
    "    images=os.listdir(req_path)\n",
    "\n",
    "    for a in images:\n",
    "        try:\n",
    "            image = Image.open(req_path+'\\\\'+a)\n",
    "            image = image.resize((30,30))\n",
    "            image = np.array(image)\n",
    "            df.append(image)\n",
    "            labels.append(i)\n",
    "        except:\n",
    "            print('error')\n",
    "\n",
    "df=np.array(df)\n",
    "labels=np.array(labels)"
   ]
  },
  {
   "cell_type": "code",
   "execution_count": 5,
   "metadata": {},
   "outputs": [
    {
     "name": "stdout",
     "output_type": "stream",
     "text": [
      "(39209, 30, 30, 3) (39209,)\n"
     ]
    }
   ],
   "source": [
    "print(df.shape,labels.shape)"
   ]
  },
  {
   "cell_type": "code",
   "execution_count": 6,
   "metadata": {},
   "outputs": [
    {
     "name": "stdout",
     "output_type": "stream",
     "text": [
      "(31367, 30, 30, 3) (7842, 30, 30, 3) (31367,) (7842,)\n"
     ]
    }
   ],
   "source": [
    "x_train,x_test,y_train,y_test=train_test_split(df,labels,test_size=0.2,random_state=42)\n",
    "print(x_train.shape,x_test.shape,y_train.shape,y_test.shape)\n",
    "y_train=to_categorical(y_train,43)\n",
    "y_test=to_categorical(y_test,43)"
   ]
  },
  {
   "cell_type": "code",
   "execution_count": 7,
   "metadata": {},
   "outputs": [],
   "source": [
    "model=Sequential()\n",
    "model.add(Conv2D(filters=32,kernel_size=(5,5),activation='relu',input_shape=(30,30,3)))\n",
    "model.add(Conv2D(filters=32,kernel_size=(5,5),activation='relu'))\n",
    "model.add(MaxPool2D(pool_size=(2,2)))\n",
    "model.add(Dropout(0.25))\n",
    "model.add(Conv2D(filters=64,kernel_size=(3,3),activation='relu'))\n",
    "model.add(Conv2D(filters=64,kernel_size=(3,3),activation='relu'))\n",
    "model.add(MaxPool2D(pool_size=(2,2)))\n",
    "model.add(Dropout(0.25))\n",
    "model.add(Flatten())\n",
    "model.add(Dense(units=256,activation='relu'))\n",
    "model.add(Dropout(0.5))\n",
    "model.add(Dense(units=columns,activation='softmax'))\n",
    "model.compile(optimizer='adam',loss='categorical_crossentropy',metrics=['accuracy'])"
   ]
  },
  {
   "cell_type": "code",
   "execution_count": 8,
   "metadata": {},
   "outputs": [
    {
     "name": "stdout",
     "output_type": "stream",
     "text": [
      "Epoch 1/10\n",
      "491/491 [==============================] - 45s 91ms/step - loss: 3.3778 - accuracy: 0.1413 - val_loss: 1.5798 - val_accuracy: 0.6042\n",
      "Epoch 2/10\n",
      "491/491 [==============================] - 43s 87ms/step - loss: 1.3308 - accuracy: 0.6199 - val_loss: 0.6324 - val_accuracy: 0.8421\n",
      "Epoch 3/10\n",
      "491/491 [==============================] - 37s 75ms/step - loss: 0.7692 - accuracy: 0.7678 - val_loss: 0.3164 - val_accuracy: 0.9091\n",
      "Epoch 4/10\n",
      "491/491 [==============================] - 34s 69ms/step - loss: 0.5157 - accuracy: 0.8431 - val_loss: 0.2182 - val_accuracy: 0.9438\n",
      "Epoch 5/10\n",
      "491/491 [==============================] - 34s 69ms/step - loss: 0.3998 - accuracy: 0.8800 - val_loss: 0.1463 - val_accuracy: 0.9649\n",
      "Epoch 6/10\n",
      "491/491 [==============================] - 38s 77ms/step - loss: 0.3354 - accuracy: 0.9000 - val_loss: 0.1023 - val_accuracy: 0.9758\n",
      "Epoch 7/10\n",
      "491/491 [==============================] - 41s 84ms/step - loss: 0.2709 - accuracy: 0.9200 - val_loss: 0.0845 - val_accuracy: 0.9783\n",
      "Epoch 8/10\n",
      "491/491 [==============================] - 41s 83ms/step - loss: 0.2210 - accuracy: 0.9356 - val_loss: 0.0654 - val_accuracy: 0.9823\n",
      "Epoch 9/10\n",
      "491/491 [==============================] - 42s 85ms/step - loss: 0.2199 - accuracy: 0.9363 - val_loss: 0.0670 - val_accuracy: 0.9795\n",
      "Epoch 10/10\n",
      "491/491 [==============================] - 43s 88ms/step - loss: 0.1937 - accuracy: 0.9439 - val_loss: 0.0520 - val_accuracy: 0.9867\n"
     ]
    }
   ],
   "source": [
    "history=model.fit(x_train,y_train,batch_size=64,epochs=10,validation_data=(x_test,y_test))"
   ]
  }
 ],
 "metadata": {
  "interpreter": {
   "hash": "d25a80791635e7e7648995f691dc342bf4ae8ab56b565a9b21c2b529ce0d3b89"
  },
  "kernelspec": {
   "display_name": "Python 3.8.12 ('virtualenv')",
   "language": "python",
   "name": "python3"
  },
  "language_info": {
   "codemirror_mode": {
    "name": "ipython",
    "version": 3
   },
   "file_extension": ".py",
   "mimetype": "text/x-python",
   "name": "python",
   "nbconvert_exporter": "python",
   "pygments_lexer": "ipython3",
   "version": "3.9.7"
  },
  "orig_nbformat": 4
 },
 "nbformat": 4,
 "nbformat_minor": 2
}
